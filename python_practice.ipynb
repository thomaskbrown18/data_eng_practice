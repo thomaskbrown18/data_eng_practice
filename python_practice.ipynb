{
 "cells": [
  {
   "cell_type": "code",
   "execution_count": 16,
   "metadata": {},
   "outputs": [
    {
     "name": "stdout",
     "output_type": "stream",
     "text": [
      "1, 2, fizz, 4, buzz, fizz, 7, 8, fizz, buzz, 11, fizz, 13, 14, fizzbuzz, "
     ]
    }
   ],
   "source": [
    "#Fizz Buzz\n",
    "def fizzbuzz(x):\n",
    "    for i in range(1,x+1):\n",
    "        if i % 15 == 0:\n",
    "            print('fizzbuzz', end=', ')\n",
    "        elif i % 5 == 0:\n",
    "            print('buzz', end=', ')\n",
    "        elif i % 3 == 0:\n",
    "            print ('fizz', end=', ')\n",
    "        else:\n",
    "            print(i, end=', ')\n",
    "fizzbuzz(15)"
   ]
  },
  {
   "cell_type": "code",
   "execution_count": 41,
   "metadata": {},
   "outputs": [
    {
     "name": "stdout",
     "output_type": "stream",
     "text": [
      "True\n"
     ]
    }
   ],
   "source": [
    "# Identify if words are anagrams\n",
    "def anagram(x, y):\n",
    "    str1 = sorted(x.lower())\n",
    "    str2 = sorted(y.lower())\n",
    "    if str1 == str2:\n",
    "        print(True)\n",
    "    else:\n",
    "        print(False)\n",
    "anagram('Thomas', 'hamost')"
   ]
  },
  {
   "cell_type": "code",
   "execution_count": 48,
   "metadata": {},
   "outputs": [
    {
     "name": "stdout",
     "output_type": "stream",
     "text": [
      "True\n"
     ]
    }
   ],
   "source": [
    "# Identify if word is palindrome\n",
    "def palindrome(x):\n",
    "    if (x[::-1]).lower() == x.lower():\n",
    "        print(True)\n",
    "    else:\n",
    "        print(False)\n",
    "palindrome('Racecar')"
   ]
  },
  {
   "cell_type": "code",
   "execution_count": 31,
   "metadata": {},
   "outputs": [],
   "source": [
    "#Given a non-empty array of integers nums, every element appears twice except for one. Find that single one.\n",
    "def singleNumber(nums):\n",
    "    no_duplicate_list = []\n",
    "    for i in nums:\n",
    "        if i not in no_duplicate_list:\n",
    "            no_duplicate_list.append(i)\n",
    "        else:\n",
    "            no_duplicate_list.remove(i)\n",
    "    return no_duplicate_list.pop()\n",
    "num = [2,2,1]\n",
    "singleNumber(num)"
   ]
  },
  {
   "cell_type": "code",
   "execution_count": null,
   "metadata": {},
   "outputs": [],
   "source": [
    "\"\"\"\n",
    "A happy number is a number defined by the following process:\n",
    "\n",
    "Starting with any positive integer, replace the number by the sum of the squares of its digits.\n",
    "Repeat the process until the number equals 1 (where it will stay), or it loops endlessly in a cycle which does not include 1.\n",
    "Those numbers for which this process ends in 1 are happy.\n",
    "\"\"\""
   ]
  }
 ],
 "metadata": {
  "kernelspec": {
   "display_name": "Python 3",
   "language": "python",
   "name": "python3"
  },
  "language_info": {
   "codemirror_mode": {
    "name": "ipython",
    "version": 3
   },
   "file_extension": ".py",
   "mimetype": "text/x-python",
   "name": "python",
   "nbconvert_exporter": "python",
   "pygments_lexer": "ipython3",
   "version": "3.6.9"
  },
  "toc": {
   "base_numbering": 1,
   "nav_menu": {},
   "number_sections": true,
   "sideBar": true,
   "skip_h1_title": false,
   "title_cell": "Table of Contents",
   "title_sidebar": "Contents",
   "toc_cell": false,
   "toc_position": {},
   "toc_section_display": true,
   "toc_window_display": false
  }
 },
 "nbformat": 4,
 "nbformat_minor": 2
}
