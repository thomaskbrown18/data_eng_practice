{
 "cells": [
  {
   "cell_type": "code",
   "execution_count": 1,
   "metadata": {},
   "outputs": [
    {
     "name": "stdout",
     "output_type": "stream",
     "text": [
      "1, 2, fizz, 4, buzz, fizz, 7, 8, fizz, buzz, 11, fizz, 13, 14, fizzbuzz, "
     ]
    }
   ],
   "source": [
    "#Fizz Buzz\n",
    "def fizzbuzz(x):\n",
    "    for i in range(1,x+1):\n",
    "        if i % 15 == 0:\n",
    "            print('fizzbuzz', end=', ')\n",
    "        elif i % 5 == 0:\n",
    "            print('buzz', end=', ')\n",
    "        elif i % 3 == 0:\n",
    "            print ('fizz', end=', ')\n",
    "        else:\n",
    "            print(i, end=', ')\n",
    "fizzbuzz(15)"
   ]
  },
  {
   "cell_type": "code",
   "execution_count": 2,
   "metadata": {},
   "outputs": [
    {
     "name": "stdout",
     "output_type": "stream",
     "text": [
      "True\n"
     ]
    }
   ],
   "source": [
    "# Identify if words are anagrams\n",
    "def anagram(x, y):\n",
    "    str1 = sorted(x.lower())\n",
    "    str2 = sorted(y.lower())\n",
    "    if str1 == str2:\n",
    "        print(True)\n",
    "    else:\n",
    "        print(False)\n",
    "anagram('Thomas', 'hamost')"
   ]
  },
  {
   "cell_type": "code",
   "execution_count": 3,
   "metadata": {},
   "outputs": [
    {
     "name": "stdout",
     "output_type": "stream",
     "text": [
      "True\n"
     ]
    }
   ],
   "source": [
    "# Identify if word is palindrome\n",
    "def palindrome(x):\n",
    "    if (x[::-1]).lower() == x.lower():\n",
    "        print(True)\n",
    "    else:\n",
    "        print(False)\n",
    "palindrome('Racecar')"
   ]
  },
  {
   "cell_type": "code",
   "execution_count": 4,
   "metadata": {},
   "outputs": [
    {
     "data": {
      "text/plain": [
       "1"
      ]
     },
     "execution_count": 4,
     "metadata": {},
     "output_type": "execute_result"
    }
   ],
   "source": [
    "#Given a non-empty array of integers nums, every element appears twice except for one. Find that single one.\n",
    "def singleNumber(nums):\n",
    "    no_duplicate_list = []\n",
    "    for i in nums:\n",
    "        if i not in no_duplicate_list:\n",
    "            no_duplicate_list.append(i)\n",
    "        else:\n",
    "            no_duplicate_list.remove(i)\n",
    "    return no_duplicate_list.pop()\n",
    "num = [2,2,1]\n",
    "singleNumber(num)"
   ]
  },
  {
   "cell_type": "code",
   "execution_count": 5,
   "metadata": {},
   "outputs": [
    {
     "data": {
      "text/plain": [
       "'\\nA happy number is a number defined by the following process:\\n\\nStarting with any positive integer, replace the number by the sum of the squares of its digits.\\nRepeat the process until the number equals 1 (where it will stay), or it loops endlessly in a cycle which does not include 1.\\nThose numbers for which this process ends in 1 are happy.\\n'"
      ]
     },
     "execution_count": 5,
     "metadata": {},
     "output_type": "execute_result"
    }
   ],
   "source": [
    "\"\"\"\n",
    "A happy number is a number defined by the following process:\n",
    "\n",
    "Starting with any positive integer, replace the number by the sum of the squares of its digits.\n",
    "Repeat the process until the number equals 1 (where it will stay), or it loops endlessly in a cycle which does not include 1.\n",
    "Those numbers for which this process ends in 1 are happy.\n",
    "\"\"\""
   ]
  },
  {
   "cell_type": "code",
   "execution_count": 52,
   "metadata": {},
   "outputs": [],
   "source": [
    "def happy_number(x):\n",
    "    print('x: ', x)\n",
    "    str_num = str(x)\n",
    "    split_num = list(str_num)\n",
    "    lst_sqrs = []\n",
    "    #x2 = []\n",
    "    #x3 = []\n",
    "    print ('split_num: ', split_num)\n",
    "    for num in split_num:\n",
    "        lst_sqrs.append(int(num)**2)\n",
    "    print('lst_sqrs: ', lst_sqrs)\n",
    "    sum_sqr = sum(lst_sqrs)\n",
    "    print('sum_sqr: ', sum_sqr)"
   ]
  },
  {
   "cell_type": "code",
   "execution_count": 53,
   "metadata": {},
   "outputs": [
    {
     "name": "stdout",
     "output_type": "stream",
     "text": [
      "x:  45\n",
      "split_num:  ['4', '5']\n",
      "lst_sqrs:  [16, 25]\n",
      "sum_sqr:  41\n"
     ]
    }
   ],
   "source": [
    "happy_number(45)"
   ]
  },
  {
   "cell_type": "code",
   "execution_count": null,
   "metadata": {},
   "outputs": [],
   "source": []
  },
  {
   "cell_type": "code",
   "execution_count": null,
   "metadata": {},
   "outputs": [],
   "source": []
  }
 ],
 "metadata": {
  "kernelspec": {
   "display_name": "Python 3",
   "language": "python",
   "name": "python3"
  },
  "language_info": {
   "codemirror_mode": {
    "name": "ipython",
    "version": 3
   },
   "file_extension": ".py",
   "mimetype": "text/x-python",
   "name": "python",
   "nbconvert_exporter": "python",
   "pygments_lexer": "ipython3",
   "version": "3.6.9"
  },
  "toc": {
   "base_numbering": 1,
   "nav_menu": {},
   "number_sections": true,
   "sideBar": true,
   "skip_h1_title": false,
   "title_cell": "Table of Contents",
   "title_sidebar": "Contents",
   "toc_cell": false,
   "toc_position": {},
   "toc_section_display": true,
   "toc_window_display": false
  }
 },
 "nbformat": 4,
 "nbformat_minor": 2
}
